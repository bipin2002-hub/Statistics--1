{
  "nbformat": 4,
  "nbformat_minor": 0,
  "metadata": {
    "colab": {
      "provenance": []
    },
    "kernelspec": {
      "name": "python3",
      "display_name": "Python 3"
    },
    "language_info": {
      "name": "python"
    }
  },
  "cells": [
    {
      "cell_type": "markdown",
      "source": [
        "#Statistics Basics| Assignment\n"
      ],
      "metadata": {
        "id": "CfjJ7UA9Vjxb"
      }
    },
    {
      "cell_type": "markdown",
      "source": [
        "**Question 1**: What is the difference between descriptive statistics and inferential statistics? Explain with examples.\n"
      ],
      "metadata": {
        "id": "17NmLF7fVqxr"
      }
    },
    {
      "cell_type": "markdown",
      "source": [
        "**Answer:** Descriptive statistics and inferential statistics are two fundamental branches of statistics, each serving a different purpose:\n",
        "\n",
        "**Descriptive Statistics**\n",
        "Definition: Descriptive statistics summarize and describe the main features of a dataset. They organize, simplify, and present data in an informative way.\n",
        "Methods: Common methods include calculating the mean, median, mode, range, standard deviation, and creating tables, charts, or graphs.\n",
        "\n",
        "Purpose: The main objective is to provide a clear overview of the data \"as it is,\" without concluding what is directly observed.\n",
        "\n",
        "**Example:**\n",
        "If we record the exam scores of 100 students in a class and calculate the average (mean) score, the highest and lowest scores, and how scores are distributed, we are using descriptive statistics.\n",
        "\n",
        " For example, saying \"The average score is 74, with a standard deviation of 10\" describes the dataset we have.\n",
        "\n",
        "**Inferential Statistics**\n",
        "\n",
        "**Definition:** Inferential statistics use data from a sample to make inferences or generalizations about a larger population. They help to draw conclusions, test hypotheses, and make predictions.\n",
        "\n",
        "**Methods**: Techniques include hypothesis testing, confidence intervals, regression analysis, and estimation.\n",
        "\n",
        "**Purpose:** The main goal is to go beyond the data at hand to make predictions or decisions about a population, often using probability theory.\n",
        "\n",
        "**Example:**\n",
        "If we take a random sample of 100 students from a university and use their exam scores to estimate the average score for all 10,000 students at that university,\n",
        " To test whether students in the university score higher on average than the national average, we are using inferential statistics. For instance, \"We are 95% confident that the average exam score for all university students falls between 72 and 76\" is an inferential statement.\n"
      ],
      "metadata": {
        "id": "_azPQG7iWOgx"
      }
    },
    {
      "cell_type": "markdown",
      "source": [
        "**Question 2**: What is sampling in statistics? Explain the differences between random and stratified sampling.\n",
        "\n",
        "**Answer:** Sampling in statistics is the process of selecting a subset (sample) from a larger group (population) to estimate characteristics or test hypotheses about the whole population.\n",
        "\n",
        "**Random sampling:** Random sampling (often called simple random sampling) involves selecting individuals directly from the entire population so that every member has an equal and independent chance of being chosen. There is no consideration of subgroups or characteristics; selection is purely by chance.\n",
        "\n",
        "**Stratified sampling**: Stratified sampling, on the other hand, first divides the population into distinct, non-overlapping subgroups called strata, based on shared characteristics (such as age, gender, or income). Then, random samples are drawn separately from each stratum, often in proportion to the size of the strata within the population. This method ensures representation from each subgroup, which increases accuracy and reliability, particularly when the population is diverse and there are important differences among subgroups.\n"
      ],
      "metadata": {
        "id": "QjiLSdYxXRJC"
      }
    },
    {
      "cell_type": "markdown",
      "source": [
        "**Question 3:** Define mean, median, and mode. Explain why these measures of central tendency are important.\n",
        "\n",
        "**Answer:** Mean, median, and mode are three fundamental measures of central tendency in statistics that summarize a data set by identifying a central or typical value.\n",
        "\n",
        "**Mean (arithmetic mean)** is the average value of the data set, calculated by adding all values and dividing by the total number of values. For example, for data points 2, 4, 6, the mean is (2+4+6)/3 = 4.\n",
        "\n",
        "**Median** is the middle value when all data points are arranged in order from smallest to largest. If the number of observations is odd, the median is the middle one; if even, it is the average of the two middle values. For example, the median of 2, 4, 6, 8 is (4+6)/2 = 5.\n",
        "\n",
        "**Mode** is the value that occurs most frequently in the data set. For instance, in 2, 2, 4, 6, the mode is 2.\n",
        "These measures are important because they provide a concise summary of the data’s center or typical value, which helps in understanding the overall behavior of the data without needing to examine every individual value. They are used to:\n",
        "\n",
        "Describe average performance or typical values in data.\n",
        "\n",
        "Compare different data sets.\n",
        "Provide insights into the data’s distribution, especially when deciding which measure is most appropriate based on the data’s characteristics like skewness or presence of outliers.\n",
        "\n"
      ],
      "metadata": {
        "id": "6oIGG9XqXvmi"
      }
    },
    {
      "cell_type": "markdown",
      "source": [
        "**Question 4**: Explain skewness and kurtosis. What does a positive skew *imply* about the data?"
      ],
      "metadata": {
        "id": "HJFuX3vs92GW"
      }
    },
    {
      "cell_type": "markdown",
      "source": [
        "Answer: Skewness and kurtosis are statistical measures that describe the shape of a   data distribution.\n",
        "\n",
        "**Skewness:**-\n",
        "Skewness measures the asymmetry of the distribution around its mean. A distribution is symmetric if it looks the same on both sides of the center. If the data is skewed, it means one tail is longer or fatter than the other. Positive skewness indicates that the right tail (higher values) is longer or more spread out, meaning the data has a tendency toward larger values. Negative skewness means the left tail is longer. Zero skewness indicates perfect symmetry.\n",
        "\n",
        "**Kurtosis:**-\n",
        "Kurtosis measures the \"tailedness\" or peakedness of the distribution, indicating how heavy or light the tails are compared to a normal distribution. High kurtosis (leptokurtic) means more data are concentrated near the mean and in the tails, implying greater risk of outliers. Low kurtosis (platykurtic) means a flatter distribution with lighter tails. A normal distribution is mesokurtic (medium kurtosis).\n",
        "\n",
        "A positive skew implies the data distribution has a longer or fatter tail on the right side, suggesting that there are some unusually high values pulling the mean to the right. This often indicates that most data points are clustered on the lower side, with a few larger extreme values.\n",
        "In summary:\n"
      ],
      "metadata": {
        "id": "avU0y2pZ9_m6"
      }
    },
    {
      "cell_type": "markdown",
      "source": [
        "\n",
        "**Question 5:** Implement a Python program to compute the mean, median, and mode of a given list of numbers. numbers = [12, 15, 12, 18, 19, 12, 20, 22, 19, 19, 24, 24, 24, 26, 28].\n"
      ],
      "metadata": {
        "id": "deVOiBP--Jiy"
      }
    },
    {
      "cell_type": "code",
      "source": [
        "import statistics\n",
        "numbers = [12, 15, 12, 18, 19, 12, 20, 22, 19, 19, 24, 24, 24, 26, 28]\n",
        "print(statistics.mean(numbers))\n",
        "print(statistics.median(numbers))\n",
        "print(statistics.mode(numbers))"
      ],
      "metadata": {
        "colab": {
          "base_uri": "https://localhost:8080/"
        },
        "id": "Z-V5qtsg-JH9",
        "outputId": "17579d4c-f4cb-411b-f0c2-6bfda9d1fc26"
      },
      "execution_count": null,
      "outputs": [
        {
          "output_type": "stream",
          "name": "stdout",
          "text": [
            "19.6\n",
            "19\n",
            "12\n"
          ]
        }
      ]
    },
    {
      "cell_type": "markdown",
      "source": [
        "**Question:6** Compute the covariance and correlation coefficient between the following.\n",
        "\n",
        "two datasets provided as lists in Python:\n",
        "\n",
        "list_x = [10, 20, 30, 40, 50]\n",
        "\n",
        "list_y = [15, 25, 35, 45, 60]"
      ],
      "metadata": {
        "id": "dN_UXIWgCacf"
      }
    },
    {
      "cell_type": "code",
      "source": [
        "import statistics\n",
        "\n",
        "list_x = [10, 20, 30, 40, 50]\n",
        "list_y = [15, 25, 35, 45, 60]\n",
        "\n",
        "# Calculate covariance\n",
        "cov_xy = statistics.covariance(list_x, list_y)\n",
        "\n",
        "# Calculate correlation coefficient (Pearson correlation)\n",
        "corr_xy = statistics.correlation(list_x, list_y)\n",
        "\n",
        "print(f\"Covariance: {cov_xy}\")\n",
        "print(f\"Correlation coefficient: {corr_xy}\")"
      ],
      "metadata": {
        "colab": {
          "base_uri": "https://localhost:8080/"
        },
        "id": "lRU89felB_Hl",
        "outputId": "cd3f869c-ec17-4581-e52b-0cfd2dcc77ad"
      },
      "execution_count": 1,
      "outputs": [
        {
          "output_type": "stream",
          "name": "stdout",
          "text": [
            "Covariance: 275.0\n",
            "Correlation coefficient: 0.9958932064677039\n"
          ]
        }
      ]
    },
    {
      "cell_type": "markdown",
      "source": [
        "**Question:7** Write a Python script to draw a boxplot for the following numeric list and identify its outliers. Explain the result:\n",
        "\n",
        "data = [12, 14, 14, 15, 18, 19, 19, 21, 22, 22, 23, 23, 24, 26, 29, 35]\n",
        "\n"
      ],
      "metadata": {
        "id": "D0JafOE1Mg_w"
      }
    },
    {
      "cell_type": "code",
      "source": [
        "import seaborn as sns\n",
        "import matplotlib.pyplot as plt\n",
        "data = [12, 14, 14, 15, 18, 19, 19, 21, 22, 22, 23, 23, 24, 26, 29, 35]\n",
        "sns.boxplot(data)\n",
        "plt.show()"
      ],
      "metadata": {
        "colab": {
          "base_uri": "https://localhost:8080/",
          "height": 411
        },
        "id": "htBFcLHANuBf",
        "outputId": "354fdbdd-ab4c-403e-bfb4-b3223a4ccc61"
      },
      "execution_count": null,
      "outputs": [
        {
          "output_type": "display_data",
          "data": {
            "text/plain": [
              "<Figure size 640x480 with 1 Axes>"
            ],
            "image/png": "[encoded data removed]"
          },
          "metadata": {}
        }
      ]
    },
    {
      "cell_type": "markdown",
      "source": [
        "- The majority of data points lie within the normal range of 12 to 29.\n",
        "\n",
        "- The value 35 is significantly higher than other values, hence marked as an outlier in the boxplot.\n",
        "\n",
        "- This suggests that 35 is an unusually high observation compared to the rest of the dataset.\n",
        "\n"
      ],
      "metadata": {
        "id": "EvwJOty5OQpY"
      }
    },
    {
      "cell_type": "markdown",
      "source": [
        "**Question 8**: You are working as a data analyst in an e-commerce company. The\n",
        "marketing team wants to know if there is a relationship between advertising spend and\n",
        "daily sales.\n",
        "\n",
        "● Explain how you would use covariance and correlation to explore this\n",
        "relationship.\n",
        "\n",
        "● Write Python code to compute the correlation between the two lists:\n",
        "\n",
        "advertising_spend = [200, 250, 300, 400, 500]   \n",
        "daily_sales = [2200, 2450, 2750, 3200, 4000]"
      ],
      "metadata": {
        "id": "FmI9dUktE3RM"
      }
    },
    {
      "cell_type": "markdown",
      "source": [
        "**Answer**: To explore the relationship between advertising spend and daily sales using covariance and correlation:\n",
        "\n",
        "**Covariance** measures how two variables vary together. A positive covariance means that when advertising spend increases, daily sales also tend to increase, indicating the variables move in the same direction. However, covariance is scale-dependent and its magnitude alone doesn't tell how strong the relationship is.\n",
        "\n",
        "**Correlation** standardizes covariance by dividing it by the product of the variables' standard deviations, resulting in a value between -1 and 1. Correlation measures both the strength and direction of the linear relationship. A value close to +1 indicates a strong positive linear relationship (as advertising spend increases, daily sales increase proportionally), while 0 means no linear relationship."
      ],
      "metadata": {
        "id": "YAQK7Y1xKEm1"
      }
    },
    {
      "cell_type": "code",
      "source": [
        "import statistics\n",
        "\n",
        "advertising_spend = [200, 250, 300, 400, 500]\n",
        "daily_sales = [2200, 2450, 2750, 3200, 4000]\n",
        "\n",
        "# Calculate the correlation coefficient (Pearson correlation)\n",
        "correlation = statistics.correlation(advertising_spend, daily_sales)\n",
        "correlation"
      ],
      "metadata": {
        "colab": {
          "base_uri": "https://localhost:8080/"
        },
        "id": "4nfxY8oEE2lu",
        "outputId": "c74113a6-45ca-4a28-c9c2-0c1264b3db35"
      },
      "execution_count": null,
      "outputs": [
        {
          "output_type": "execute_result",
          "data": {
            "text/plain": [
              "0.9935824101653327"
            ]
          },
          "metadata": {},
          "execution_count": 26
        }
      ]
    },
    {
      "cell_type": "markdown",
      "source": [
        "Question 9: Your team has collected customer satisfaction survey data on a scale of\n",
        "\n",
        "> Add blockquote\n",
        "\n",
        " 1-10 and wants to understand its distribution before launching a new product.\n",
        "\n",
        "● Explain which summary statistics and visualizations (e.g. mean, standard\n",
        "deviation, histogram) you’d use.\n",
        "\n",
        "● Write Python code to create a histogram using Matplotlib for the survey data:\n",
        "survey_scores = [7, 8, 5, 9, 6, 7, 8, 9, 10, 4, 7, 6, 9, 8, 7].\n"
      ],
      "metadata": {
        "id": "uDXXOizpPj47"
      }
    },
    {
      "cell_type": "markdown",
      "source": [
        "**Answer**:\n",
        "**Summary Statistics to Use**\n",
        "we have survey data on a scale of 1-10, so we can compute:\n",
        "\n",
        "**Mean (Average)**:\n",
        "Measures the central tendency of the scores.\n",
        "Example: If the mean is 7.5, overall customer satisfaction is above average.\n",
        "\n",
        "**Median:**\n",
        "The middle score that reduces the effect of extreme values.\n",
        "\n",
        "\n",
        "**Mode:**\n",
        "The most frequent score, showing the most common rating given.\n",
        "\n",
        "**Standard Deviation (SD):**\n",
        "Measures how spread out the scores are around the mean.\n",
        "\n",
        "Low SD → Scores are close to the average.\n",
        "\n",
        "High SD → Scores vary widely.\n",
        "\n",
        "**Minimum and Maximum:**\n",
        "Shows the range of satisfaction ratings.\n",
        "\n",
        "**Visualizations**\n",
        "\n",
        "**Histogram:**\n",
        "Shows the frequency of each rating and identifies patterns (e.g., skewed toward high satisfaction).\n",
        "\n",
        "**Box Plot:**\n",
        "Displays data spread, median, and potential outliers.\n",
        "\n",
        "**Bar Plot:**\n",
        "Useful if we want to show frequency counts for each score explicitly.\n",
        "\n"
      ],
      "metadata": {
        "id": "2Bfk-UtiTZ-1"
      }
    },
    {
      "cell_type": "code",
      "source": [
        "import matplotlib.pyplot as plt\n",
        "\n",
        "survey_scores = [7, 8, 5, 9, 6, 7, 8, 9, 10, 4, 7, 6, 9, 8, 7]\n",
        "\n",
        "plt.hist(survey_scores, bins=range(1, 12), edgecolor='black', align='left')\n",
        "plt.title('Customer Satisfaction Survey Scores Distribution')\n",
        "plt.xlabel('Survey Score')\n",
        "plt.ylabel('Frequency')\n",
        "plt.xticks(range(1, 11))\n",
        "plt.grid(axis='y', linestyle='--', alpha=0.7)\n",
        "plt.show()"
      ],
      "metadata": {
        "colab": {
          "base_uri": "https://localhost:8080/",
          "height": 472
        },
        "id": "m2rKz80HETU9",
        "outputId": "3ae8e170-ad38-4609-c5f0-ddf3cfbdd448"
      },
      "execution_count": null,
      "outputs": [
        {
          "output_type": "display_data",
          "data": {
            "text/plain": [
              "<Figure size 640x480 with 1 Axes>"
            ],
            "image/png": "[encoded data removed]"
          },
          "metadata": {}
        }
      ]
    },
    {
      "cell_type": "code",
      "source": [],
      "metadata": {
        "id": "9DfrFVCYU2U4"
      },
      "execution_count": null,
      "outputs": []
    }
  ]
}